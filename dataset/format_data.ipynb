{
 "cells": [
  {
   "cell_type": "code",
   "execution_count": 58,
   "metadata": {
    "collapsed": true,
    "pycharm": {
     "name": "#%%\n"
    }
   },
   "outputs": [],
   "source": [
    "import pandas as pd"
   ]
  },
  {
   "cell_type": "code",
   "execution_count": 59,
   "outputs": [],
   "source": [
    "df = pd.read_csv('simplifyweibo_4_moods.csv')\n",
    "df.columns = ['label', 'text']"
   ],
   "metadata": {
    "collapsed": false,
    "pycharm": {
     "name": "#%%\n"
    }
   }
  },
  {
   "cell_type": "code",
   "execution_count": 60,
   "outputs": [],
   "source": [
    "df = df.sample(frac=1).reset_index(drop=True)"
   ],
   "metadata": {
    "collapsed": false,
    "pycharm": {
     "name": "#%%\n"
    }
   }
  },
  {
   "cell_type": "code",
   "execution_count": 62,
   "outputs": [],
   "source": [
    "df.loc[df['label'] > 0, 'label'] = 1"
   ],
   "metadata": {
    "collapsed": false,
    "pycharm": {
     "name": "#%%\n"
    }
   }
  },
  {
   "cell_type": "code",
   "execution_count": 64,
   "outputs": [],
   "source": [
    "train = df.iloc[:int(len(df)*0.9)]\n",
    "dev = df.iloc[int(len(df)*0.9):int(len(df)*0.95)]\n",
    "test = df.iloc[int(len(df)*0.95):]"
   ],
   "metadata": {
    "collapsed": false,
    "pycharm": {
     "name": "#%%\n"
    }
   }
  },
  {
   "cell_type": "code",
   "execution_count": 65,
   "outputs": [],
   "source": [
    "train_dict = train.to_dict('index')\n",
    "dev_dict = dev.to_dict('index')\n",
    "test_dict = test.to_dict('index')"
   ],
   "metadata": {
    "collapsed": false,
    "pycharm": {
     "name": "#%%\n"
    }
   }
  },
  {
   "cell_type": "code",
   "execution_count": 66,
   "outputs": [],
   "source": [
    "for k, v in train_dict.items():\n",
    "    v.update({'data': {'text': v['text']}})\n",
    "    v.pop('text')\n",
    "\n",
    "for k, v in dev_dict.items():\n",
    "    v.update({'data': {'text': v['text']}})\n",
    "    v.pop('text')\n",
    "\n",
    "for k, v in test_dict.items():\n",
    "    v.update({'data': {'text': v['text']}})\n",
    "    v.pop('text')"
   ],
   "metadata": {
    "collapsed": false,
    "pycharm": {
     "name": "#%%\n"
    }
   }
  },
  {
   "cell_type": "code",
   "execution_count": 67,
   "outputs": [],
   "source": [
    "import json\n",
    "\n",
    "with open('train.json', 'w') as f:\n",
    "    df_json = json.dumps(train_dict, indent=4, ensure_ascii=False)\n",
    "    f.write(df_json)\n",
    "\n",
    "with open('valid.json', 'w') as f:\n",
    "    df_json = json.dumps(dev_dict, indent=4, ensure_ascii=False)\n",
    "    f.write(df_json)\n",
    "\n",
    "with open('test.json', 'w') as f:\n",
    "    df_json = json.dumps(test_dict, indent=4, ensure_ascii=False)\n",
    "    f.write(df_json)"
   ],
   "metadata": {
    "collapsed": false,
    "pycharm": {
     "name": "#%%\n"
    }
   }
  },
  {
   "cell_type": "code",
   "execution_count": null,
   "outputs": [],
   "source": [],
   "metadata": {
    "collapsed": false,
    "pycharm": {
     "name": "#%%\n"
    }
   }
  }
 ],
 "metadata": {
  "kernelspec": {
   "display_name": "Python 3",
   "language": "python",
   "name": "python3"
  },
  "language_info": {
   "codemirror_mode": {
    "name": "ipython",
    "version": 2
   },
   "file_extension": ".py",
   "mimetype": "text/x-python",
   "name": "python",
   "nbconvert_exporter": "python",
   "pygments_lexer": "ipython2",
   "version": "2.7.6"
  }
 },
 "nbformat": 4,
 "nbformat_minor": 0
}